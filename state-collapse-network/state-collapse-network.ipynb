{
 "cells": [
  {
   "cell_type": "markdown",
   "metadata": {},
   "source": [
    "<h1><center>FAIKR Project (State Collapse Network)</center></h1>\n",
    "<center>The objective of this project is to apply Bayesian networks to the modelling of causes that lead to a state's collapse. The project aims to answer questions involving the conditional dependencies between the causes of a state's collapse.</center>\n",
    "<br>\n",
    "\n",
    "<h3><center>By: Gee Jun Hui Leonidas Yunani</center></h3>\n",
    "<center>Email: leonidas.gee@studio.unibo.it</center>\n",
    "<center>Academic Year: 2020 / 2021</center>"
   ]
  },
  {
   "cell_type": "code",
   "execution_count": 1,
   "metadata": {
    "execution": {
     "iopub.execute_input": "2021-03-10T15:30:35.687049Z",
     "iopub.status.busy": "2021-03-10T15:30:35.686271Z",
     "iopub.status.idle": "2021-03-10T15:30:38.094774Z",
     "shell.execute_reply": "2021-03-10T15:30:38.093565Z"
    },
    "papermill": {
     "duration": 2.428917,
     "end_time": "2021-03-10T15:30:38.094956",
     "exception": false,
     "start_time": "2021-03-10T15:30:35.666039",
     "status": "completed"
    },
    "tags": []
   },
   "outputs": [],
   "source": [
    "# Import the necessary libraries\n",
    "import numpy as np\n",
    "import pandas as pd\n",
    "import matplotlib.pyplot as plt\n",
    "%matplotlib inline\n",
    "from pgmpy.models import BayesianModel\n",
    "from pgmpy.inference import VariableElimination\n",
    "from pgmpy.sampling import BayesianModelSampling\n",
    "from pgmpy.factors.discrete import State\n",
    "import networkx as nx"
   ]
  },
  {
   "cell_type": "code",
   "execution_count": 2,
   "metadata": {
    "execution": {
     "iopub.execute_input": "2021-03-10T15:30:38.127903Z",
     "iopub.status.busy": "2021-03-10T15:30:38.127148Z",
     "iopub.status.idle": "2021-03-10T15:30:38.184210Z",
     "shell.execute_reply": "2021-03-10T15:30:38.184716Z"
    },
    "papermill": {
     "duration": 0.076277,
     "end_time": "2021-03-10T15:30:38.184887",
     "exception": false,
     "start_time": "2021-03-10T15:30:38.108610",
     "status": "completed"
    },
    "tags": []
   },
   "outputs": [
    {
     "name": "stdout",
     "output_type": "stream",
     "text": [
      "Number of rows and columns: (43, 31)\n"
     ]
    },
    {
     "data": {
      "text/html": [
       "<div>\n",
       "<style scoped>\n",
       "    .dataframe tbody tr th:only-of-type {\n",
       "        vertical-align: middle;\n",
       "    }\n",
       "\n",
       "    .dataframe tbody tr th {\n",
       "        vertical-align: top;\n",
       "    }\n",
       "\n",
       "    .dataframe thead th {\n",
       "        text-align: right;\n",
       "    }\n",
       "</style>\n",
       "<table border=\"1\" class=\"dataframe\">\n",
       "  <thead>\n",
       "    <tr style=\"text-align: right;\">\n",
       "      <th></th>\n",
       "      <th>case_ID</th>\n",
       "      <th>bur_obstr</th>\n",
       "      <th>factional</th>\n",
       "      <th>unoff_militia</th>\n",
       "      <th>informal</th>\n",
       "      <th>power_prop</th>\n",
       "      <th>milit</th>\n",
       "      <th>nic</th>\n",
       "      <th>personal_rule</th>\n",
       "      <th>polar</th>\n",
       "      <th>...</th>\n",
       "      <th>ex_threat</th>\n",
       "      <th>trade_open</th>\n",
       "      <th>aid</th>\n",
       "      <th>liberal</th>\n",
       "      <th>n_collapse</th>\n",
       "      <th>n_civ_war</th>\n",
       "      <th>sap</th>\n",
       "      <th>outcome</th>\n",
       "      <th>hybrid_regime</th>\n",
       "      <th>local_polity</th>\n",
       "    </tr>\n",
       "  </thead>\n",
       "  <tbody>\n",
       "    <tr>\n",
       "      <th>0</th>\n",
       "      <td>Afghanistan 1973</td>\n",
       "      <td>0</td>\n",
       "      <td>0</td>\n",
       "      <td>0</td>\n",
       "      <td>1</td>\n",
       "      <td>2</td>\n",
       "      <td>0</td>\n",
       "      <td>0</td>\n",
       "      <td>1</td>\n",
       "      <td>0</td>\n",
       "      <td>...</td>\n",
       "      <td>1</td>\n",
       "      <td>1</td>\n",
       "      <td>1</td>\n",
       "      <td>0</td>\n",
       "      <td>0</td>\n",
       "      <td>1</td>\n",
       "      <td>0</td>\n",
       "      <td>0</td>\n",
       "      <td>0</td>\n",
       "      <td>0</td>\n",
       "    </tr>\n",
       "    <tr>\n",
       "      <th>1</th>\n",
       "      <td>Afghanistan 1979</td>\n",
       "      <td>1</td>\n",
       "      <td>0</td>\n",
       "      <td>1</td>\n",
       "      <td>2</td>\n",
       "      <td>2</td>\n",
       "      <td>1</td>\n",
       "      <td>0</td>\n",
       "      <td>2</td>\n",
       "      <td>0</td>\n",
       "      <td>...</td>\n",
       "      <td>0</td>\n",
       "      <td>1</td>\n",
       "      <td>0</td>\n",
       "      <td>0</td>\n",
       "      <td>0</td>\n",
       "      <td>1</td>\n",
       "      <td>0</td>\n",
       "      <td>1</td>\n",
       "      <td>0</td>\n",
       "      <td>0</td>\n",
       "    </tr>\n",
       "    <tr>\n",
       "      <th>2</th>\n",
       "      <td>Angola 1975</td>\n",
       "      <td>0</td>\n",
       "      <td>0</td>\n",
       "      <td>0</td>\n",
       "      <td>2</td>\n",
       "      <td>2</td>\n",
       "      <td>1</td>\n",
       "      <td>1</td>\n",
       "      <td>0</td>\n",
       "      <td>1</td>\n",
       "      <td>...</td>\n",
       "      <td>0</td>\n",
       "      <td>2</td>\n",
       "      <td>0</td>\n",
       "      <td>0</td>\n",
       "      <td>0</td>\n",
       "      <td>1</td>\n",
       "      <td>0</td>\n",
       "      <td>0</td>\n",
       "      <td>0</td>\n",
       "      <td>1</td>\n",
       "    </tr>\n",
       "    <tr>\n",
       "      <th>3</th>\n",
       "      <td>Angola 1992</td>\n",
       "      <td>1</td>\n",
       "      <td>0</td>\n",
       "      <td>0</td>\n",
       "      <td>1</td>\n",
       "      <td>1</td>\n",
       "      <td>1</td>\n",
       "      <td>0</td>\n",
       "      <td>0</td>\n",
       "      <td>0</td>\n",
       "      <td>...</td>\n",
       "      <td>2</td>\n",
       "      <td>2</td>\n",
       "      <td>1</td>\n",
       "      <td>1</td>\n",
       "      <td>0</td>\n",
       "      <td>0</td>\n",
       "      <td>0</td>\n",
       "      <td>1</td>\n",
       "      <td>1</td>\n",
       "      <td>1</td>\n",
       "    </tr>\n",
       "    <tr>\n",
       "      <th>4</th>\n",
       "      <td>Bosnia-Herzegovina 1992</td>\n",
       "      <td>0</td>\n",
       "      <td>1</td>\n",
       "      <td>0</td>\n",
       "      <td>0</td>\n",
       "      <td>2</td>\n",
       "      <td>1</td>\n",
       "      <td>1</td>\n",
       "      <td>0</td>\n",
       "      <td>1</td>\n",
       "      <td>...</td>\n",
       "      <td>0</td>\n",
       "      <td>2</td>\n",
       "      <td>0</td>\n",
       "      <td>1</td>\n",
       "      <td>0</td>\n",
       "      <td>1</td>\n",
       "      <td>0</td>\n",
       "      <td>1</td>\n",
       "      <td>0</td>\n",
       "      <td>0</td>\n",
       "    </tr>\n",
       "  </tbody>\n",
       "</table>\n",
       "<p>5 rows × 31 columns</p>\n",
       "</div>"
      ],
      "text/plain": [
       "                   case_ID  bur_obstr  factional  unoff_militia  informal  \\\n",
       "0         Afghanistan 1973          0          0              0         1   \n",
       "1         Afghanistan 1979          1          0              1         2   \n",
       "2              Angola 1975          0          0              0         2   \n",
       "3              Angola 1992          1          0              0         1   \n",
       "4  Bosnia-Herzegovina 1992          0          1              0         0   \n",
       "\n",
       "   power_prop  milit  nic  personal_rule  polar  ...  ex_threat  trade_open  \\\n",
       "0           2      0    0              1      0  ...          1           1   \n",
       "1           2      1    0              2      0  ...          0           1   \n",
       "2           2      1    1              0      1  ...          0           2   \n",
       "3           1      1    0              0      0  ...          2           2   \n",
       "4           2      1    1              0      1  ...          0           2   \n",
       "\n",
       "   aid  liberal  n_collapse  n_civ_war  sap  outcome  hybrid_regime  \\\n",
       "0    1        0           0          1    0        0              0   \n",
       "1    0        0           0          1    0        1              0   \n",
       "2    0        0           0          1    0        0              0   \n",
       "3    1        1           0          0    0        1              1   \n",
       "4    0        1           0          1    0        1              0   \n",
       "\n",
       "   local_polity  \n",
       "0             0  \n",
       "1             0  \n",
       "2             1  \n",
       "3             1  \n",
       "4             0  \n",
       "\n",
       "[5 rows x 31 columns]"
      ]
     },
     "execution_count": 2,
     "metadata": {},
     "output_type": "execute_result"
    }
   ],
   "source": [
    "# Load and preview the dataset\n",
    "data = pd.read_csv('dataset/QCA-Dataset complete 2014-11-04.csv', delimiter=';')\n",
    "print('Number of rows and columns: {}'.format(data.shape))\n",
    "data.head()"
   ]
  },
  {
   "cell_type": "markdown",
   "metadata": {},
   "source": [
    "The dataset that is selected has been composed by the University of Duisburg-Essen, Germany. The dataset can be downloaded from this [link](https://dataverse.harvard.edu/dataset.xhtml?persistentId=doi:10.7910/DVN/LAUATA).\n",
    "\n",
    "The dataset consists of 43 rows and 31 columns with each column (except for **case_ID** and **outcome**) representing a cause that can lead to a state’s collapse. The rows represent the countries at different points in time when they are stable (**outcome = 0**) and when they have collapsed (**outcome = 1**)."
   ]
  },
  {
   "cell_type": "code",
   "execution_count": 3,
   "metadata": {},
   "outputs": [
    {
     "name": "stdout",
     "output_type": "stream",
     "text": [
      "['case_ID' 'bur_obstr' 'factional' 'unoff_militia' 'informal' 'power_prop'\n",
      " 'milit' 'nic' 'personal_rule' 'polar' 'regime' 'sec_obstr' 'transition'\n",
      " 'income' 'prim_comm_exp' 'gov_rev' 'pop_density' 'eth_min_rule' 'youth'\n",
      " 'repression' 'polity' 'ex_threat' 'trade_open' 'aid' 'liberal'\n",
      " 'n_collapse' 'n_civ_war' 'sap' 'outcome' 'hybrid_regime' 'local_polity']\n"
     ]
    }
   ],
   "source": [
    "# Print all the columns of the dataset\n",
    "print(data.columns.values)"
   ]
  },
  {
   "cell_type": "markdown",
   "metadata": {},
   "source": [
    "For this project, only political factors are selected to build the Bayesian Network. This is in part to simplify the design and study of the network. As such, the following causes have been selected: **regime**, **eth_min_rule**, **personal_rule**, **repression**, **factional**, **milit**, **power_prop**."
   ]
  },
  {
   "cell_type": "code",
   "execution_count": 4,
   "metadata": {
    "execution": {
     "iopub.execute_input": "2021-03-10T15:30:38.249228Z",
     "iopub.status.busy": "2021-03-10T15:30:38.248560Z",
     "iopub.status.idle": "2021-03-10T15:30:38.254188Z",
     "shell.execute_reply": "2021-03-10T15:30:38.254809Z"
    },
    "papermill": {
     "duration": 0.022668,
     "end_time": "2021-03-10T15:30:38.254986",
     "exception": false,
     "start_time": "2021-03-10T15:30:38.232318",
     "status": "completed"
    },
    "tags": []
   },
   "outputs": [
    {
     "data": {
      "text/html": [
       "<div>\n",
       "<style scoped>\n",
       "    .dataframe tbody tr th:only-of-type {\n",
       "        vertical-align: middle;\n",
       "    }\n",
       "\n",
       "    .dataframe tbody tr th {\n",
       "        vertical-align: top;\n",
       "    }\n",
       "\n",
       "    .dataframe thead th {\n",
       "        text-align: right;\n",
       "    }\n",
       "</style>\n",
       "<table border=\"1\" class=\"dataframe\">\n",
       "  <thead>\n",
       "    <tr style=\"text-align: right;\">\n",
       "      <th></th>\n",
       "      <th>regime</th>\n",
       "      <th>eth_min_rule</th>\n",
       "      <th>personal_rule</th>\n",
       "      <th>repression</th>\n",
       "      <th>factional</th>\n",
       "      <th>milit</th>\n",
       "      <th>power_prop</th>\n",
       "      <th>outcome</th>\n",
       "    </tr>\n",
       "  </thead>\n",
       "  <tbody>\n",
       "    <tr>\n",
       "      <th>Afghanistan 1973</th>\n",
       "      <td>2</td>\n",
       "      <td>0</td>\n",
       "      <td>1</td>\n",
       "      <td>0</td>\n",
       "      <td>0</td>\n",
       "      <td>0</td>\n",
       "      <td>2</td>\n",
       "      <td>0</td>\n",
       "    </tr>\n",
       "    <tr>\n",
       "      <th>Afghanistan 1979</th>\n",
       "      <td>2</td>\n",
       "      <td>0</td>\n",
       "      <td>2</td>\n",
       "      <td>1</td>\n",
       "      <td>0</td>\n",
       "      <td>1</td>\n",
       "      <td>2</td>\n",
       "      <td>1</td>\n",
       "    </tr>\n",
       "    <tr>\n",
       "      <th>Angola 1975</th>\n",
       "      <td>2</td>\n",
       "      <td>1</td>\n",
       "      <td>0</td>\n",
       "      <td>1</td>\n",
       "      <td>0</td>\n",
       "      <td>1</td>\n",
       "      <td>2</td>\n",
       "      <td>0</td>\n",
       "    </tr>\n",
       "    <tr>\n",
       "      <th>Angola 1992</th>\n",
       "      <td>1</td>\n",
       "      <td>1</td>\n",
       "      <td>0</td>\n",
       "      <td>1</td>\n",
       "      <td>0</td>\n",
       "      <td>1</td>\n",
       "      <td>1</td>\n",
       "      <td>1</td>\n",
       "    </tr>\n",
       "    <tr>\n",
       "      <th>Bosnia-Herzegovina 1992</th>\n",
       "      <td>0</td>\n",
       "      <td>0</td>\n",
       "      <td>0</td>\n",
       "      <td>0</td>\n",
       "      <td>1</td>\n",
       "      <td>1</td>\n",
       "      <td>2</td>\n",
       "      <td>1</td>\n",
       "    </tr>\n",
       "  </tbody>\n",
       "</table>\n",
       "</div>"
      ],
      "text/plain": [
       "                         regime  eth_min_rule  personal_rule  repression  \\\n",
       "Afghanistan 1973              2             0              1           0   \n",
       "Afghanistan 1979              2             0              2           1   \n",
       "Angola 1975                   2             1              0           1   \n",
       "Angola 1992                   1             1              0           1   \n",
       "Bosnia-Herzegovina 1992       0             0              0           0   \n",
       "\n",
       "                         factional  milit  power_prop  outcome  \n",
       "Afghanistan 1973                 0      0           2        0  \n",
       "Afghanistan 1979                 0      1           2        1  \n",
       "Angola 1975                      0      1           2        0  \n",
       "Angola 1992                      0      1           1        1  \n",
       "Bosnia-Herzegovina 1992          1      1           2        1  "
      ]
     },
     "execution_count": 4,
     "metadata": {},
     "output_type": "execute_result"
    }
   ],
   "source": [
    "# Select only relevant features from the dataset\n",
    "df = data[['regime', 'eth_min_rule', 'personal_rule', \n",
    "           'repression', 'factional', 'milit', \n",
    "           'power_prop', 'outcome']]\n",
    "df.index = data.case_ID.values\n",
    "df.head()"
   ]
  },
  {
   "cell_type": "markdown",
   "metadata": {},
   "source": [
    "## Description and Values of the Features\n",
    "\n",
    "**Regime Type (REGIME)**\n",
    "\n",
    "Regime type, classified as \"Democracy\", \"Hybrid\", or \"Autocracy\".\n",
    "\n",
    "- 0 = democracy\n",
    "- 1 = hybrid regime\n",
    "- 2 = autocracy\n",
    "\n",
    "**Ethnic Minority Rule (ETH_MIN_RULE)**\n",
    "\n",
    "Political monopoly, or dominant political position in politics of an ethnic group which constitutes a numerical minority in the country.\n",
    "\n",
    "- 0 = no ethnic minority rule \n",
    "- 1 = ethnic minority rule\n",
    "\n",
    "**Personal Rule (PERSONAL_RULE)**\n",
    "\n",
    "A type of state authority structure in which the ruler is an individual leader whose decision making power is institutionally unconstrained, who presides over a neopatrimonial public administration and who uses the patron client network as the principal institutional mechanism for wielding political power.\n",
    "\n",
    "- 0 = no personalist regime \n",
    "- 1 = partially personalist regime\n",
    "- 2 = personalist regime\n",
    "\n",
    "**Repression (REPRESSION)**\n",
    "\n",
    "Intensity of state repression against the population.\n",
    "\n",
    "- 0 = no or low level of repression\n",
    "- 1 = intermediate to high level of repression\n",
    "\n",
    "**Factionalism (FACTIONAL)**\n",
    "\n",
    "Political competition shaped by parochial or ethnic based political factions promoting particularist agendas.\n",
    "\n",
    "- 0 = no factionalism \n",
    "- 1 = factionalism\n",
    "\n",
    "**Militarised Opposition Groups (MILIT)**\n",
    "\n",
    "Relevant oppositional actors are organised as armed groups.\n",
    "\n",
    "- 0 = relevant opposition groups are unarmed \n",
    "- 1 = relevant opposition groups are armed\n",
    "\n",
    "**Power Proportions (POWER PROP)**\n",
    "\n",
    "Opposition's perception of the chance to take over government, based on actual power\n",
    "relations to and attitude towards rulers.\n",
    "\n",
    "- 0 = opposition does not see any chance for a regime change secession \n",
    "- 1 = opposition is doubtful of the chance for a regime change secession\n",
    "- 2 = opposition is convinced of a good chance for a regime change secession"
   ]
  },
  {
   "cell_type": "code",
   "execution_count": 5,
   "metadata": {
    "execution": {
     "iopub.execute_input": "2021-03-10T15:30:38.587787Z",
     "iopub.status.busy": "2021-03-10T15:30:38.587095Z",
     "iopub.status.idle": "2021-03-10T15:30:38.590908Z",
     "shell.execute_reply": "2021-03-10T15:30:38.590279Z"
    },
    "papermill": {
     "duration": 0.025365,
     "end_time": "2021-03-10T15:30:38.591064",
     "exception": false,
     "start_time": "2021-03-10T15:30:38.565699",
     "status": "completed"
    },
    "tags": []
   },
   "outputs": [],
   "source": [
    "# Define the Bayesian Network\n",
    "model = BayesianModel([('regime', 'repression'), \n",
    "                       ('eth_min_rule', 'repression'),\n",
    "                       ('personal_rule', 'repression'),\n",
    "                       ('repression', 'factional'),                       \n",
    "                       ('milit', 'power_prop'),\n",
    "                       ('factional', 'outcome'),                       \n",
    "                       ('power_prop', 'outcome')])"
   ]
  },
  {
   "cell_type": "markdown",
   "metadata": {},
   "source": [
    "The network is designed with the following logic:\n",
    "\n",
    "1.\t**Regime**, **Ethnic Minority Rule** and **Personal Rule** will determine if the Repression is applied by the government. The type of regime and the needs of its ruling class will determine if repression is required to stay in power.\n",
    "\n",
    "2.\t**Repression** will determine if **Factionalism** appears within the government. A government that represses its political class will have a lower factionalism as internal opposition is removed from positions of power, thus leading to less factionalism within the government.\n",
    "\n",
    "3.\t**Militarised Oppositional Groups** will determine the **Power Proportions** of external oppositional groups to the government. This is the belief of such groups of overthrowing the government by force.\n",
    "\n",
    "4.\t**Factionalism** and **Power Proportions** will determine the **Outcome** of a state. If the government is divided into many factions internally and if external opposition groups are confident in their force of arms, a state is more likely to collapse in such a scenario."
   ]
  },
  {
   "cell_type": "code",
   "execution_count": 6,
   "metadata": {
    "execution": {
     "iopub.execute_input": "2021-03-10T15:30:39.018817Z",
     "iopub.status.busy": "2021-03-10T15:30:39.018119Z",
     "iopub.status.idle": "2021-03-10T15:30:40.204855Z",
     "shell.execute_reply": "2021-03-10T15:30:40.203819Z"
    },
    "papermill": {
     "duration": 1.210877,
     "end_time": "2021-03-10T15:30:40.205072",
     "exception": false,
     "start_time": "2021-03-10T15:30:38.994195",
     "status": "completed"
    },
    "tags": []
   },
   "outputs": [
    {
     "name": "stdout",
     "output_type": "stream",
     "text": [
      "CPT of eth_min_rule\n",
      "+-----------------+----------+\n",
      "| eth_min_rule(0) | 0.697674 |\n",
      "+-----------------+----------+\n",
      "| eth_min_rule(1) | 0.302326 |\n",
      "+-----------------+----------+ \n",
      "\n",
      "CPT of factional\n",
      "+--------------+---------------+--------------------+\n",
      "| repression   | repression(0) | repression(1)      |\n",
      "+--------------+---------------+--------------------+\n",
      "| factional(0) | 0.4           | 0.7142857142857143 |\n",
      "+--------------+---------------+--------------------+\n",
      "| factional(1) | 0.6           | 0.2857142857142857 |\n",
      "+--------------+---------------+--------------------+ \n",
      "\n",
      "CPT of milit\n",
      "+----------+---------+\n",
      "| milit(0) | 0.55814 |\n",
      "+----------+---------+\n",
      "| milit(1) | 0.44186 |\n",
      "+----------+---------+ \n",
      "\n",
      "CPT of outcome\n",
      "+------------+---------------+---------------+---------------------+---------------+---------------+---------------+\n",
      "| factional  | factional(0)  | factional(0)  | factional(0)        | factional(1)  | factional(1)  | factional(1)  |\n",
      "+------------+---------------+---------------+---------------------+---------------+---------------+---------------+\n",
      "| power_prop | power_prop(0) | power_prop(1) | power_prop(2)       | power_prop(0) | power_prop(1) | power_prop(2) |\n",
      "+------------+---------------+---------------+---------------------+---------------+---------------+---------------+\n",
      "| outcome(0) | 1.0           | 0.9           | 0.5454545454545454  | 1.0           | 1.0           | 0.25          |\n",
      "+------------+---------------+---------------+---------------------+---------------+---------------+---------------+\n",
      "| outcome(1) | 0.0           | 0.1           | 0.45454545454545453 | 0.0           | 0.0           | 0.75          |\n",
      "+------------+---------------+---------------+---------------------+---------------+---------------+---------------+ \n",
      "\n",
      "CPT of personal_rule\n",
      "+------------------+----------+\n",
      "| personal_rule(0) | 0.302326 |\n",
      "+------------------+----------+\n",
      "| personal_rule(1) | 0.418605 |\n",
      "+------------------+----------+\n",
      "| personal_rule(2) | 0.27907  |\n",
      "+------------------+----------+ \n",
      "\n",
      "CPT of power_prop\n",
      "+---------------+--------------------+---------------------+\n",
      "| milit         | milit(0)           | milit(1)            |\n",
      "+---------------+--------------------+---------------------+\n",
      "| power_prop(0) | 0.2916666666666667 | 0.0                 |\n",
      "+---------------+--------------------+---------------------+\n",
      "| power_prop(1) | 0.4166666666666667 | 0.15789473684210525 |\n",
      "+---------------+--------------------+---------------------+\n",
      "| power_prop(2) | 0.2916666666666667 | 0.8421052631578947  |\n",
      "+---------------+--------------------+---------------------+ \n",
      "\n",
      "CPT of regime\n",
      "+-----------+----------+\n",
      "| regime(0) | 0.139535 |\n",
      "+-----------+----------+\n",
      "| regime(1) | 0.325581 |\n",
      "+-----------+----------+\n",
      "| regime(2) | 0.534884 |\n",
      "+-----------+----------+ \n",
      "\n",
      "CPT of repression\n",
      "+---------------+------------------+------------------+------------------+------------------+---------------------+------------------+------------------+------------------+------------------+------------------+------------------+------------------+------------------+------------------+------------------+------------------+------------------+------------------+\n",
      "| eth_min_rule  | eth_min_rule(0)  | eth_min_rule(0)  | eth_min_rule(0)  | eth_min_rule(0)  | eth_min_rule(0)     | eth_min_rule(0)  | eth_min_rule(0)  | eth_min_rule(0)  | eth_min_rule(0)  | eth_min_rule(1)  | eth_min_rule(1)  | eth_min_rule(1)  | eth_min_rule(1)  | eth_min_rule(1)  | eth_min_rule(1)  | eth_min_rule(1)  | eth_min_rule(1)  | eth_min_rule(1)  |\n",
      "+---------------+------------------+------------------+------------------+------------------+---------------------+------------------+------------------+------------------+------------------+------------------+------------------+------------------+------------------+------------------+------------------+------------------+------------------+------------------+\n",
      "| personal_rule | personal_rule(0) | personal_rule(0) | personal_rule(0) | personal_rule(1) | personal_rule(1)    | personal_rule(1) | personal_rule(2) | personal_rule(2) | personal_rule(2) | personal_rule(0) | personal_rule(0) | personal_rule(0) | personal_rule(1) | personal_rule(1) | personal_rule(1) | personal_rule(2) | personal_rule(2) | personal_rule(2) |\n",
      "+---------------+------------------+------------------+------------------+------------------+---------------------+------------------+------------------+------------------+------------------+------------------+------------------+------------------+------------------+------------------+------------------+------------------+------------------+------------------+\n",
      "| regime        | regime(0)        | regime(1)        | regime(2)        | regime(0)        | regime(1)           | regime(2)        | regime(0)        | regime(1)        | regime(2)        | regime(0)        | regime(1)        | regime(2)        | regime(0)        | regime(1)        | regime(2)        | regime(0)        | regime(1)        | regime(2)        |\n",
      "+---------------+------------------+------------------+------------------+------------------+---------------------+------------------+------------------+------------------+------------------+------------------+------------------+------------------+------------------+------------------+------------------+------------------+------------------+------------------+\n",
      "| repression(0) | 0.6              | 0.75             | 0.0              | 1.0              | 0.16666666666666666 | 0.6              | 0.5              | 1.0              | 0.0              | 0.5              | 0.0              | 0.0              | 0.5              | 0.0              | 0.4              | 0.5              | 0.0              | 0.25             |\n",
      "+---------------+------------------+------------------+------------------+------------------+---------------------+------------------+------------------+------------------+------------------+------------------+------------------+------------------+------------------+------------------+------------------+------------------+------------------+------------------+\n",
      "| repression(1) | 0.4              | 0.25             | 1.0              | 0.0              | 0.8333333333333334  | 0.4              | 0.5              | 0.0              | 1.0              | 0.5              | 1.0              | 1.0              | 0.5              | 1.0              | 0.6              | 0.5              | 1.0              | 0.75             |\n",
      "+---------------+------------------+------------------+------------------+------------------+---------------------+------------------+------------------+------------------+------------------+------------------+------------------+------------------+------------------+------------------+------------------+------------------+------------------+------------------+ \n",
      "\n"
     ]
    }
   ],
   "source": [
    "# Fit the data to the Bayesian Network to obtain the CPTs\n",
    "model.cpds = []\n",
    "model.fit(df)\n",
    "\n",
    "# Print all the learned CPTs\n",
    "for cpd in model.get_cpds():\n",
    "    print('CPT of {}'.format(cpd.variable))\n",
    "    print(cpd, '\\n')"
   ]
  },
  {
   "cell_type": "code",
   "execution_count": 7,
   "metadata": {},
   "outputs": [],
   "source": [
    "# Rename the nodes for neater visualisation\n",
    "G = nx.relabel_nodes(model, {'regime':'rgm', 'repression':'rpr', 'eth_min_rule':'emr', \n",
    "                             'personal_rule':'pr', 'factional':'fct', 'milit':'mlt', \n",
    "                             'power_prop':'pp', 'outcome':'out'})"
   ]
  },
  {
   "cell_type": "code",
   "execution_count": 8,
   "metadata": {},
   "outputs": [
    {
     "data": {
      "image/png": "[encoded data removed]",
      "text/plain": [
       "<Figure size 720x288 with 1 Axes>"
      ]
     },
     "metadata": {},
     "output_type": "display_data"
    }
   ],
   "source": [
    "# Visualise the constructed Bayesian Network\n",
    "plt.figure(figsize=(10, 4))\n",
    "nx.draw_planar(G, node_color='r', node_size=1500, with_labels=True, \n",
    "               font_color='w', font_weight='bold')\n",
    "plt.title('Structure of the Bayesian Network')\n",
    "plt.show()"
   ]
  },
  {
   "cell_type": "markdown",
   "metadata": {},
   "source": [
    "## Infering the Fitted Bayesian network\n",
    "\n",
    "The Bayesian network can now be infered to answer questions regarding the  probability of certain causes of state collapse given some evidence. This is done using two alternative methods, namely the exact inference using variable elimination or approximate inference using likelihood weighted sampling."
   ]
  },
  {
   "cell_type": "code",
   "execution_count": 9,
   "metadata": {
    "execution": {
     "iopub.execute_input": "2021-03-10T15:30:40.250849Z",
     "iopub.status.busy": "2021-03-10T15:30:40.248852Z",
     "iopub.status.idle": "2021-03-10T15:30:40.255489Z",
     "shell.execute_reply": "2021-03-10T15:30:40.254808Z"
    },
    "papermill": {
     "duration": 0.030923,
     "end_time": "2021-03-10T15:30:40.255665",
     "exception": false,
     "start_time": "2021-03-10T15:30:40.224742",
     "status": "completed"
    },
    "tags": []
   },
   "outputs": [],
   "source": [
    "# Define the inference function using variable elimination\n",
    "def varElim(Q, evidence):\n",
    "    infer = VariableElimination(model)\n",
    "    \n",
    "    string = ''\n",
    "    lst = list(evidence.items())\n",
    "    last = len(lst) - 1\n",
    "    \n",
    "    for i, pair in enumerate(lst):\n",
    "        string += pair[0] + '=' + str(pair[1])\n",
    "        if i != last:\n",
    "            string += ', '\n",
    "    \n",
    "    prob = infer.query([Q], evidence=evidence, show_progress=False)\n",
    "    val = prob.values\n",
    "    \n",
    "    print('Probability of {} given {}\\n'.format(Q, string))\n",
    "    print(prob)"
   ]
  },
  {
   "cell_type": "code",
   "execution_count": 10,
   "metadata": {},
   "outputs": [],
   "source": [
    "# Define the inference function using likelihood weighted sampling\n",
    "def sampLW(Q, evidence, sample_size):\n",
    "    infer = BayesianModelSampling(model)\n",
    "    \n",
    "    samples = infer.likelihood_weighted_sample(evidence=evidence, size=sample_size, seed=0)\n",
    "    \n",
    "    unique = samples[Q].unique()\n",
    "    unique.sort()\n",
    "    \n",
    "    string = ''\n",
    "    last = len(evidence) - 1\n",
    "    for i, pair in enumerate(evidence):\n",
    "        string += pair[0] + '=' + str(pair[1])\n",
    "        if i != last:\n",
    "            string += ', '\n",
    "    \n",
    "    print('Probability of {} given {}\\n'.format(Q, string))\n",
    "    \n",
    "    prob_lst = []\n",
    "    for val in unique:\n",
    "        rows = samples[samples[Q] == val]\n",
    "        \n",
    "        numerator = np.sum(rows['_weight'])\n",
    "        denominator = np.sum(samples['_weight'])\n",
    "        prob = round(numerator/denominator, 4)\n",
    "        \n",
    "        prob_lst.append(prob)\n",
    "        \n",
    "        print('{}({}) = {}'.format(Q, val, prob))"
   ]
  },
  {
   "cell_type": "markdown",
   "metadata": {},
   "source": [
    "### What form of government will ethnic minority rule most likely take that does not lead to state collapse?\n",
    "\n",
    "In countries such as South Africa during the Apartheid period, what form of government is necessary to prevent state collapse and is democracy possible for minority rule to be maintained?"
   ]
  },
  {
   "cell_type": "code",
   "execution_count": 11,
   "metadata": {},
   "outputs": [
    {
     "name": "stdout",
     "output_type": "stream",
     "text": [
      "Probability of regime given eth_min_rule=1, outcome=0\n",
      "\n",
      "+-----------+---------------+\n",
      "| regime    |   phi(regime) |\n",
      "+===========+===============+\n",
      "| regime(0) |        0.1370 |\n",
      "+-----------+---------------+\n",
      "| regime(1) |        0.3294 |\n",
      "+-----------+---------------+\n",
      "| regime(2) |        0.5336 |\n",
      "+-----------+---------------+\n"
     ]
    }
   ],
   "source": [
    "# Inference using variable elimination\n",
    "varElim('regime', {'eth_min_rule': 1, 'outcome': 0})"
   ]
  },
  {
   "cell_type": "code",
   "execution_count": 12,
   "metadata": {},
   "outputs": [
    {
     "name": "stdout",
     "output_type": "stream",
     "text": [
      "Probability of regime given eth_min_rule=1\n",
      "\n",
      "regime(0) = 0.143\n",
      "regime(1) = 0.3271\n",
      "regime(2) = 0.5299\n"
     ]
    }
   ],
   "source": [
    "# Inference using likelihood weighted sampling\n",
    "sampLW('regime', [State('eth_min_rule', 1)], 10000)"
   ]
  },
  {
   "cell_type": "markdown",
   "metadata": {},
   "source": [
    "An ethnic minority government will most likely take the form of an autocracy to prevent state collapse. This is due to the need to control the ethnically different population of a much larger demographic. A democracy will probably lead to the ethnic minority rulers being swept away in an election."
   ]
  },
  {
   "cell_type": "markdown",
   "metadata": {},
   "source": [
    "### What is the probability that a democracy with personal rule will lead to repression?\n",
    "\n",
    "During the Trump presidency, personal rule and loyalty defined the White House and the USA. In such a case, is it possible that a democracy with personal rule will lead to repression?"
   ]
  },
  {
   "cell_type": "code",
   "execution_count": 13,
   "metadata": {},
   "outputs": [
    {
     "name": "stdout",
     "output_type": "stream",
     "text": [
      "Probability of repression given regime=0, personal_rule=1\n",
      "\n",
      "+---------------+-------------------+\n",
      "| repression    |   phi(repression) |\n",
      "+===============+===================+\n",
      "| repression(0) |            0.8488 |\n",
      "+---------------+-------------------+\n",
      "| repression(1) |            0.1512 |\n",
      "+---------------+-------------------+\n"
     ]
    }
   ],
   "source": [
    "# Inference using variable elimination\n",
    "varElim('repression', {'regime': 0, 'personal_rule': 1})"
   ]
  },
  {
   "cell_type": "code",
   "execution_count": 14,
   "metadata": {},
   "outputs": [
    {
     "name": "stdout",
     "output_type": "stream",
     "text": [
      "Probability of repression given regime=0, personal_rule=1\n",
      "\n",
      "repression(0) = 0.8502\n",
      "repression(1) = 0.1498\n"
     ]
    }
   ],
   "source": [
    "# Inference using likelihood weighted sampling\n",
    "sampLW('repression', [State('regime', 0), State('personal_rule', 1)], 10000)"
   ]
  },
  {
   "cell_type": "markdown",
   "metadata": {},
   "source": [
    "The probability of repression by a democracy with personal rule is low. This is most likely due to the checks and balances that still exist within democracies to prevent such abuses of power."
   ]
  },
  {
   "cell_type": "markdown",
   "metadata": {},
   "source": [
    "### What is the probability that a united government and a militarised opposition will lead to state collapse?\n",
    "\n",
    "When a government is united and not split by internal factions, is it able to overcome any attempt of state overthrow by an emboldened militarised opposition group?"
   ]
  },
  {
   "cell_type": "code",
   "execution_count": 15,
   "metadata": {},
   "outputs": [
    {
     "name": "stdout",
     "output_type": "stream",
     "text": [
      "Probability of outcome given factional=0, milit=1\n",
      "\n",
      "+------------+----------------+\n",
      "| outcome    |   phi(outcome) |\n",
      "+============+================+\n",
      "| outcome(0) |         0.6014 |\n",
      "+------------+----------------+\n",
      "| outcome(1) |         0.3986 |\n",
      "+------------+----------------+\n"
     ]
    }
   ],
   "source": [
    "# Inference using variable elimination\n",
    "varElim('outcome', {'factional': 0, 'milit': 1})"
   ]
  },
  {
   "cell_type": "code",
   "execution_count": 16,
   "metadata": {},
   "outputs": [
    {
     "name": "stdout",
     "output_type": "stream",
     "text": [
      "Probability of outcome given factional=0, milit=1\n",
      "\n",
      "outcome(0) = 0.6031\n",
      "outcome(1) = 0.3969\n"
     ]
    }
   ],
   "source": [
    "# Inference using likelihood weighted sampling\n",
    "sampLW('outcome', [State('factional', 0), State('milit', 1)], 10000)"
   ]
  },
  {
   "cell_type": "markdown",
   "metadata": {},
   "source": [
    "If the government is united without factionalism, the probability of a militarised opposition leading to a state collapse is relatively low. A united government will be able to coordinate military action against such groups more easily, thus reducing the probability of government overthrow."
   ]
  },
  {
   "cell_type": "markdown",
   "metadata": {},
   "source": [
    "## Conclusion\n",
    "\n",
    "The project has demonstrated the design and usage of Bayesian networks in modelling a given dataset. In this case, the model was used to answer questions involving the causes of state collapse. Such a model can be further improved by having more representative data and also a better model design by a human expert."
   ]
  }
 ],
 "metadata": {
  "kernelspec": {
   "display_name": "Python 3",
   "language": "python",
   "name": "python3"
  },
  "language_info": {
   "codemirror_mode": {
    "name": "ipython",
    "version": 3
   },
   "file_extension": ".py",
   "mimetype": "text/x-python",
   "name": "python",
   "nbconvert_exporter": "python",
   "pygments_lexer": "ipython3",
   "version": "3.8.5"
  },
  "papermill": {
   "default_parameters": {},
   "duration": 21.199961,
   "end_time": "2021-03-10T15:30:41.321236",
   "environment_variables": {},
   "exception": null,
   "input_path": "__notebook__.ipynb",
   "output_path": "__notebook__.ipynb",
   "parameters": {},
   "start_time": "2021-03-10T15:30:20.121275",
   "version": "2.2.2"
  }
 },
 "nbformat": 4,
 "nbformat_minor": 4
}
