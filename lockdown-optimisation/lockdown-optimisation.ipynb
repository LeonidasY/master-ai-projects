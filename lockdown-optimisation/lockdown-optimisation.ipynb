{
 "cells": [
  {
   "cell_type": "markdown",
   "metadata": {},
   "source": [
    "<h1><center>CDMO Project (Lockdown Optimisation)</center></h1>\n",
    "<center>The objective of this project is to demonstrate the application of non-linear programming in the analysis of lockdown policies during the COVID pandemic. The project aims to answer questions regarding the feasibility and optimisation of such policies.</center>\n",
    "<br>\n",
    "\n",
    "<h3><center>By: Gee Jun Hui Leonidas Yunani</center></h3>\n",
    "<center>Email: leonidas.gee@studio.unibo.it</center>\n",
    "<center>Academic Year: 2020 / 2021</center>"
   ]
  },
  {
   "cell_type": "code",
   "execution_count": 1,
   "metadata": {},
   "outputs": [],
   "source": [
    "# Import the necessary libraries\n",
    "import numpy as np\n",
    "import pandas as pd\n",
    "import matplotlib\n",
    "import matplotlib.pyplot as plt\n",
    "import matplotlib.dates as mdates\n",
    "%matplotlib inline\n",
    "from scipy.optimize import minimize\n",
    "from sympy.solvers import solve\n",
    "from sympy import symbols, Eq"
   ]
  },
  {
   "cell_type": "markdown",
   "metadata": {},
   "source": [
    "## Data Import\n",
    "\n",
    "The [dataset](https://ourworldindata.org/coronavirus-source-data) used is provided by Our World In Data and is regularly updated throughout the COVID-19 pandemic. For this project, the latest infection and stay at home policy datasets are used. The datasets are imported, preprocessed and merged for subsequent data visualisation."
   ]
  },
  {
   "cell_type": "code",
   "execution_count": 2,
   "metadata": {},
   "outputs": [
    {
     "name": "stdout",
     "output_type": "stream",
     "text": [
      "Number of rows and columns: (92127, 5)\n"
     ]
    },
    {
     "data": {
      "text/html": [
       "<div>\n",
       "<style scoped>\n",
       "    .dataframe tbody tr th:only-of-type {\n",
       "        vertical-align: middle;\n",
       "    }\n",
       "\n",
       "    .dataframe tbody tr th {\n",
       "        vertical-align: top;\n",
       "    }\n",
       "\n",
       "    .dataframe thead th {\n",
       "        text-align: right;\n",
       "    }\n",
       "</style>\n",
       "<table border=\"1\" class=\"dataframe\">\n",
       "  <thead>\n",
       "    <tr style=\"text-align: right;\">\n",
       "      <th></th>\n",
       "      <th>continent</th>\n",
       "      <th>country</th>\n",
       "      <th>date</th>\n",
       "      <th>new_cases_smoothed</th>\n",
       "      <th>reproduction_rate</th>\n",
       "    </tr>\n",
       "  </thead>\n",
       "  <tbody>\n",
       "    <tr>\n",
       "      <th>0</th>\n",
       "      <td>Asia</td>\n",
       "      <td>Afghanistan</td>\n",
       "      <td>2020-02-24</td>\n",
       "      <td>NaN</td>\n",
       "      <td>NaN</td>\n",
       "    </tr>\n",
       "    <tr>\n",
       "      <th>1</th>\n",
       "      <td>Asia</td>\n",
       "      <td>Afghanistan</td>\n",
       "      <td>2020-02-25</td>\n",
       "      <td>NaN</td>\n",
       "      <td>NaN</td>\n",
       "    </tr>\n",
       "    <tr>\n",
       "      <th>2</th>\n",
       "      <td>Asia</td>\n",
       "      <td>Afghanistan</td>\n",
       "      <td>2020-02-26</td>\n",
       "      <td>NaN</td>\n",
       "      <td>NaN</td>\n",
       "    </tr>\n",
       "    <tr>\n",
       "      <th>3</th>\n",
       "      <td>Asia</td>\n",
       "      <td>Afghanistan</td>\n",
       "      <td>2020-02-27</td>\n",
       "      <td>NaN</td>\n",
       "      <td>NaN</td>\n",
       "    </tr>\n",
       "    <tr>\n",
       "      <th>4</th>\n",
       "      <td>Asia</td>\n",
       "      <td>Afghanistan</td>\n",
       "      <td>2020-02-28</td>\n",
       "      <td>NaN</td>\n",
       "      <td>NaN</td>\n",
       "    </tr>\n",
       "  </tbody>\n",
       "</table>\n",
       "</div>"
      ],
      "text/plain": [
       "  continent      country        date  new_cases_smoothed  reproduction_rate\n",
       "0      Asia  Afghanistan  2020-02-24                 NaN                NaN\n",
       "1      Asia  Afghanistan  2020-02-25                 NaN                NaN\n",
       "2      Asia  Afghanistan  2020-02-26                 NaN                NaN\n",
       "3      Asia  Afghanistan  2020-02-27                 NaN                NaN\n",
       "4      Asia  Afghanistan  2020-02-28                 NaN                NaN"
      ]
     },
     "execution_count": 2,
     "metadata": {},
     "output_type": "execute_result"
    }
   ],
   "source": [
    "# Load the infection dataset\n",
    "infection = pd.read_csv('dataset/owid-covid-data.csv')\n",
    "infection = infection[['continent', 'location', 'date', \n",
    "                       'new_cases_smoothed', 'reproduction_rate']]\n",
    "infection.rename({'location': 'country'}, axis=1, inplace=True)\n",
    "\n",
    "# Preview the infection dataset\n",
    "print('Number of rows and columns: {}'.format(infection.shape))\n",
    "infection.head()"
   ]
  },
  {
   "cell_type": "markdown",
   "metadata": {},
   "source": [
    "### Stay-at-Home Restrictions\n",
    "\n",
    "Countries are grouped into four categories:\n",
    "- No measures\n",
    "- Recommended not to leave the house\n",
    "- Required to not leave the house with exceptions for daily exercise, grocery shopping, and ‘essential’ trips\n",
    "- Required to not leave the house with minimal exceptions (e.g. allowed to leave only once every few days, or only one person can leave at a time, etc.)\n",
    "\n",
    "There may be subnational or regional differences in restrictions. The policy categories shown may not apply at all subnational levels. A country is coded as having these restrictions if at least some subnational regions have implemented them."
   ]
  },
  {
   "cell_type": "code",
   "execution_count": 3,
   "metadata": {},
   "outputs": [
    {
     "name": "stdout",
     "output_type": "stream",
     "text": [
      "Number of rows and columns: (93584, 3)\n"
     ]
    },
    {
     "data": {
      "text/html": [
       "<div>\n",
       "<style scoped>\n",
       "    .dataframe tbody tr th:only-of-type {\n",
       "        vertical-align: middle;\n",
       "    }\n",
       "\n",
       "    .dataframe tbody tr th {\n",
       "        vertical-align: top;\n",
       "    }\n",
       "\n",
       "    .dataframe thead th {\n",
       "        text-align: right;\n",
       "    }\n",
       "</style>\n",
       "<table border=\"1\" class=\"dataframe\">\n",
       "  <thead>\n",
       "    <tr style=\"text-align: right;\">\n",
       "      <th></th>\n",
       "      <th>country</th>\n",
       "      <th>date</th>\n",
       "      <th>stay_home</th>\n",
       "    </tr>\n",
       "  </thead>\n",
       "  <tbody>\n",
       "    <tr>\n",
       "      <th>0</th>\n",
       "      <td>Afghanistan</td>\n",
       "      <td>2020-01-01</td>\n",
       "      <td>0</td>\n",
       "    </tr>\n",
       "    <tr>\n",
       "      <th>1</th>\n",
       "      <td>Afghanistan</td>\n",
       "      <td>2020-01-02</td>\n",
       "      <td>0</td>\n",
       "    </tr>\n",
       "    <tr>\n",
       "      <th>2</th>\n",
       "      <td>Afghanistan</td>\n",
       "      <td>2020-01-03</td>\n",
       "      <td>0</td>\n",
       "    </tr>\n",
       "    <tr>\n",
       "      <th>3</th>\n",
       "      <td>Afghanistan</td>\n",
       "      <td>2020-01-04</td>\n",
       "      <td>0</td>\n",
       "    </tr>\n",
       "    <tr>\n",
       "      <th>4</th>\n",
       "      <td>Afghanistan</td>\n",
       "      <td>2020-01-05</td>\n",
       "      <td>0</td>\n",
       "    </tr>\n",
       "  </tbody>\n",
       "</table>\n",
       "</div>"
      ],
      "text/plain": [
       "       country        date  stay_home\n",
       "0  Afghanistan  2020-01-01          0\n",
       "1  Afghanistan  2020-01-02          0\n",
       "2  Afghanistan  2020-01-03          0\n",
       "3  Afghanistan  2020-01-04          0\n",
       "4  Afghanistan  2020-01-05          0"
      ]
     },
     "execution_count": 3,
     "metadata": {},
     "output_type": "execute_result"
    }
   ],
   "source": [
    "# Load the stay at home policy dataset\n",
    "home = pd.read_csv('dataset/stay-at-home-covid.csv')\n",
    "home = home[['Entity', 'Day', 'stay_home_requirements']]\n",
    "home.rename({'Entity': 'country', 'Day': 'date', 'stay_home_requirements': 'stay_home'}, axis=1, inplace=True)\n",
    "\n",
    "# Preview the stay at home policy dataset\n",
    "print('Number of rows and columns: {}'.format(home.shape))\n",
    "home.head()"
   ]
  },
  {
   "cell_type": "code",
   "execution_count": 4,
   "metadata": {},
   "outputs": [
    {
     "name": "stdout",
     "output_type": "stream",
     "text": [
      "Number of rows and columns: (68452, 6)\n"
     ]
    }
   ],
   "source": [
    "# Merge the datasets based on country and date\n",
    "common = infection.merge(home, on=['country','date'])\n",
    "common = common.dropna()\n",
    "common.reset_index(drop=True, inplace=True)\n",
    "print('Number of rows and columns: {}'.format(common.shape))"
   ]
  },
  {
   "cell_type": "code",
   "execution_count": 5,
   "metadata": {},
   "outputs": [
    {
     "name": "stdout",
     "output_type": "stream",
     "text": [
      "Number of rows and columns: (459, 6)\n"
     ]
    },
    {
     "data": {
      "text/html": [
       "<div>\n",
       "<style scoped>\n",
       "    .dataframe tbody tr th:only-of-type {\n",
       "        vertical-align: middle;\n",
       "    }\n",
       "\n",
       "    .dataframe tbody tr th {\n",
       "        vertical-align: top;\n",
       "    }\n",
       "\n",
       "    .dataframe thead th {\n",
       "        text-align: right;\n",
       "    }\n",
       "</style>\n",
       "<table border=\"1\" class=\"dataframe\">\n",
       "  <thead>\n",
       "    <tr style=\"text-align: right;\">\n",
       "      <th></th>\n",
       "      <th>continent</th>\n",
       "      <th>country</th>\n",
       "      <th>date</th>\n",
       "      <th>new_cases_smoothed</th>\n",
       "      <th>reproduction_rate</th>\n",
       "      <th>stay_home</th>\n",
       "    </tr>\n",
       "  </thead>\n",
       "  <tbody>\n",
       "    <tr>\n",
       "      <th>0</th>\n",
       "      <td>Europe</td>\n",
       "      <td>Italy</td>\n",
       "      <td>2020-02-24</td>\n",
       "      <td>32.286</td>\n",
       "      <td>3.55</td>\n",
       "      <td>2</td>\n",
       "    </tr>\n",
       "    <tr>\n",
       "      <th>1</th>\n",
       "      <td>Europe</td>\n",
       "      <td>Italy</td>\n",
       "      <td>2020-02-25</td>\n",
       "      <td>45.571</td>\n",
       "      <td>3.51</td>\n",
       "      <td>2</td>\n",
       "    </tr>\n",
       "    <tr>\n",
       "      <th>2</th>\n",
       "      <td>Europe</td>\n",
       "      <td>Italy</td>\n",
       "      <td>2020-02-26</td>\n",
       "      <td>64.286</td>\n",
       "      <td>3.44</td>\n",
       "      <td>2</td>\n",
       "    </tr>\n",
       "    <tr>\n",
       "      <th>3</th>\n",
       "      <td>Europe</td>\n",
       "      <td>Italy</td>\n",
       "      <td>2020-02-27</td>\n",
       "      <td>93.143</td>\n",
       "      <td>3.36</td>\n",
       "      <td>2</td>\n",
       "    </tr>\n",
       "    <tr>\n",
       "      <th>4</th>\n",
       "      <td>Europe</td>\n",
       "      <td>Italy</td>\n",
       "      <td>2020-02-28</td>\n",
       "      <td>124.000</td>\n",
       "      <td>3.25</td>\n",
       "      <td>2</td>\n",
       "    </tr>\n",
       "  </tbody>\n",
       "</table>\n",
       "</div>"
      ],
      "text/plain": [
       "  continent country        date  new_cases_smoothed  reproduction_rate  \\\n",
       "0    Europe   Italy  2020-02-24              32.286               3.55   \n",
       "1    Europe   Italy  2020-02-25              45.571               3.51   \n",
       "2    Europe   Italy  2020-02-26              64.286               3.44   \n",
       "3    Europe   Italy  2020-02-27              93.143               3.36   \n",
       "4    Europe   Italy  2020-02-28             124.000               3.25   \n",
       "\n",
       "   stay_home  \n",
       "0          2  \n",
       "1          2  \n",
       "2          2  \n",
       "3          2  \n",
       "4          2  "
      ]
     },
     "execution_count": 5,
     "metadata": {},
     "output_type": "execute_result"
    }
   ],
   "source": [
    "# Preview the merged dataset of a specific country\n",
    "data = common.loc[common['country'] == 'Italy'].copy()\n",
    "data.reset_index(drop=True, inplace=True)\n",
    "print('Number of rows and columns: {}'.format(data.shape))\n",
    "data.head()"
   ]
  },
  {
   "cell_type": "code",
   "execution_count": 6,
   "metadata": {},
   "outputs": [],
   "source": [
    "# Define the 14-day changes plotting function\n",
    "def show_14(X1, N1, X2, N2, X3, N3):\n",
    "    dates = mdates.date2num(data['date'])\n",
    "\n",
    "    fig = plt.figure(figsize=(14, 8))\n",
    "    ax1 = fig.add_subplot(111)\n",
    "    ax2 = ax1.twinx()\n",
    "    ax3 = ax1.twinx()\n",
    "\n",
    "    p1, = ax1.plot_date(dates, data[X1], '-', color='black', label=N1)\n",
    "    ax1.xaxis.set_major_formatter(mdates.DateFormatter('%Y-%m-%d'))\n",
    "    ax1.xaxis.set_major_locator(mdates.DayLocator(interval=14))\n",
    "    ax1.set_ylabel(N1)\n",
    "\n",
    "    p2, = ax2.plot_date(dates, data[X2], '-', color='red', label=N2)\n",
    "    ax2.xaxis.set_major_formatter(mdates.DateFormatter('%Y-%m-%d'))\n",
    "    ax2.xaxis.set_major_locator(mdates.DayLocator(interval=14))\n",
    "    ax2.set_ylabel(N2) \n",
    "\n",
    "    p3, = ax3.plot_date(dates, data[X3], '-', color='blue', label=N3)\n",
    "    ax3.xaxis.set_major_formatter(mdates.DateFormatter('%Y-%m-%d'))\n",
    "    ax3.xaxis.set_major_locator(mdates.DayLocator(interval=14))\n",
    "    ax3.set_ylabel(N3)     \n",
    "    ax3.spines['right'].set_position(('outward', 60))\n",
    "    \n",
    "    lns = [p1, p2, p3]\n",
    "    ax1.legend(handles=lns, loc='best')\n",
    "    \n",
    "    fig.suptitle('14-day Changes of {}, {} and {}'.format(N1, N2, N3))\n",
    "    fig.autofmt_xdate()\n",
    "    ax1.xaxis.grid(True)\n",
    "    plt.show()"
   ]
  },
  {
   "cell_type": "markdown",
   "metadata": {},
   "source": [
    "## Data Visualisation\n",
    "\n",
    "After merging the data and drilling down into data for Italy specifically, we can observe how the severity of the stay home policy influences the number of new cases and R-number. \n",
    "\n",
    "In early March 2020, as the pandemic was picking up speed in Italy, the Italian government brought stay home policy restrictions to their highest level of 3. This helped to squash the number of new cases and R-number to below 5000 and 1 respectively.\n",
    "\n",
    "However, as the situation improved, the Italian government decided to reduce the severity of the lockdown greatly, at one point even reaching a state of no measures in early August 2020 until late October 2020.\n",
    "\n",
    "This laxed policy would eventually lead to a sharp rise in new cases and the R-number, which would prompt the Italian government to enforce a stricter stay home policy in late October 2020 until the present."
   ]
  },
  {
   "cell_type": "code",
   "execution_count": 7,
   "metadata": {},
   "outputs": [
    {
     "data": {
      "image/png": "[encoded data removed]",
      "text/plain": [
       "<Figure size 1008x576 with 3 Axes>"
      ]
     },
     "metadata": {
      "needs_background": "light"
     },
     "output_type": "display_data"
    }
   ],
   "source": [
    "# Show the 14-day changes in the R-number due to the stay home policy\n",
    "show_14('stay_home', 'Stay Home Policy', \n",
    "        'new_cases_smoothed', 'New Cases Smoothed', \n",
    "        'reproduction_rate', 'R-number')"
   ]
  },
  {
   "cell_type": "markdown",
   "metadata": {},
   "source": [
    "## Constrained optimisation"
   ]
  },
  {
   "cell_type": "markdown",
   "metadata": {},
   "source": [
    "### Formulation of the Objective Function\n",
    "\n",
    "The objective function is formulated to related the number of lockdown days, D to the severity of the stay home policy, H and the reproduction rate, R. D is inversely proportional to H and R given a coefficient, m.\n",
    "\n",
    "$$D = \\frac{m}{H * R}$$\n",
    "\n",
    "where:\n",
    "- **D** is the **number of lockdown days**\n",
    "- **m** is the **coefficient**\n",
    "- **H** is the **severity of stay home policy**\n",
    "- **R** is the **reproduction rate**"
   ]
  },
  {
   "cell_type": "code",
   "execution_count": 8,
   "metadata": {},
   "outputs": [
    {
     "data": {
      "text/html": [
       "<div>\n",
       "<style scoped>\n",
       "    .dataframe tbody tr th:only-of-type {\n",
       "        vertical-align: middle;\n",
       "    }\n",
       "\n",
       "    .dataframe tbody tr th {\n",
       "        vertical-align: top;\n",
       "    }\n",
       "\n",
       "    .dataframe thead th {\n",
       "        text-align: right;\n",
       "    }\n",
       "</style>\n",
       "<table border=\"1\" class=\"dataframe\">\n",
       "  <thead>\n",
       "    <tr style=\"text-align: right;\">\n",
       "      <th></th>\n",
       "      <th>continent</th>\n",
       "      <th>country</th>\n",
       "      <th>date</th>\n",
       "      <th>new_cases_smoothed</th>\n",
       "      <th>reproduction_rate</th>\n",
       "      <th>stay_home</th>\n",
       "      <th>days</th>\n",
       "    </tr>\n",
       "  </thead>\n",
       "  <tbody>\n",
       "    <tr>\n",
       "      <th>454</th>\n",
       "      <td>Europe</td>\n",
       "      <td>Italy</td>\n",
       "      <td>2021-05-23</td>\n",
       "      <td>4723.000</td>\n",
       "      <td>0.69</td>\n",
       "      <td>2</td>\n",
       "      <td>213</td>\n",
       "    </tr>\n",
       "    <tr>\n",
       "      <th>455</th>\n",
       "      <td>Europe</td>\n",
       "      <td>Italy</td>\n",
       "      <td>2021-05-24</td>\n",
       "      <td>4585.143</td>\n",
       "      <td>0.69</td>\n",
       "      <td>2</td>\n",
       "      <td>214</td>\n",
       "    </tr>\n",
       "    <tr>\n",
       "      <th>456</th>\n",
       "      <td>Europe</td>\n",
       "      <td>Italy</td>\n",
       "      <td>2021-05-25</td>\n",
       "      <td>4409.571</td>\n",
       "      <td>0.69</td>\n",
       "      <td>2</td>\n",
       "      <td>215</td>\n",
       "    </tr>\n",
       "    <tr>\n",
       "      <th>457</th>\n",
       "      <td>Europe</td>\n",
       "      <td>Italy</td>\n",
       "      <td>2021-05-26</td>\n",
       "      <td>4186.000</td>\n",
       "      <td>0.69</td>\n",
       "      <td>2</td>\n",
       "      <td>216</td>\n",
       "    </tr>\n",
       "    <tr>\n",
       "      <th>458</th>\n",
       "      <td>Europe</td>\n",
       "      <td>Italy</td>\n",
       "      <td>2021-05-27</td>\n",
       "      <td>3958.429</td>\n",
       "      <td>0.69</td>\n",
       "      <td>2</td>\n",
       "      <td>217</td>\n",
       "    </tr>\n",
       "  </tbody>\n",
       "</table>\n",
       "</div>"
      ],
      "text/plain": [
       "    continent country        date  new_cases_smoothed  reproduction_rate  \\\n",
       "454    Europe   Italy  2021-05-23            4723.000               0.69   \n",
       "455    Europe   Italy  2021-05-24            4585.143               0.69   \n",
       "456    Europe   Italy  2021-05-25            4409.571               0.69   \n",
       "457    Europe   Italy  2021-05-26            4186.000               0.69   \n",
       "458    Europe   Italy  2021-05-27            3958.429               0.69   \n",
       "\n",
       "     stay_home  days  \n",
       "454          2   213  \n",
       "455          2   214  \n",
       "456          2   215  \n",
       "457          2   216  \n",
       "458          2   217  "
      ]
     },
     "execution_count": 8,
     "metadata": {},
     "output_type": "execute_result"
    }
   ],
   "source": [
    "# Calculate the number of days for each stay home period\n",
    "for i, row in data.iterrows():\n",
    "    if i == 0:\n",
    "        data.loc[i, 'days'] = 1\n",
    "    else:\n",
    "        if data.loc[i, 'stay_home'] == data.loc[i-1, 'stay_home']:\n",
    "            data.loc[i, 'days'] = data.loc[i-1, 'days'] + 1\n",
    "        elif data.loc[i, 'stay_home'] != data.loc[i-1, 'stay_home']:\n",
    "            data.loc[i, 'days'] = 1            \n",
    "            \n",
    "# Preview the days column\n",
    "data['days'] = pd.to_numeric(data['days'], downcast='integer')\n",
    "data.tail()"
   ]
  },
  {
   "cell_type": "markdown",
   "metadata": {},
   "source": [
    "### Computing the Coefficient of the Objective Function\n",
    "\n",
    "Gradient descent is used to compute the coefficient m from the dataset. The derivative of the cost function with respect to the coefficient m is first computed manually before being defined as a function for gradient descent.\n",
    "\n",
    "$$𝐶 = \\frac{SSE}{2𝑛}$$ \n",
    "\n",
    "$$SSE = Σᵢ(𝑦ᵢ − 𝑓(𝐱ᵢ))² = Σᵢ(𝑦ᵢ − Dᵢ)²$$\n",
    "\n",
    "$$𝐶 = \\frac{Σᵢ(𝑦ᵢ − \\frac{m}{Hᵢ * Rᵢ})²}{2𝑛}$$\n",
    "\n",
    "$$\\frac{∂𝐶}{∂m} = \\frac{1}{𝑛} Σᵢ(\\frac{\\frac{m}{Hᵢ * Rᵢ} - 𝑦ᵢ}{Hᵢ * Rᵢ}) = mean(\\frac{\\frac{m}{Hᵢ * Rᵢ} - 𝑦ᵢ}{Hᵢ * Rᵢ})$$"
   ]
  },
  {
   "cell_type": "code",
   "execution_count": 9,
   "metadata": {},
   "outputs": [],
   "source": [
    "# Define the gradient of the cost function\n",
    "def gradient(X, y, param):\n",
    "    # +1 to prevent division by zero\n",
    "    return np.mean((param[0] / (X[0] * X[1] + 1) - y) / (X[0] * X[1] + 1))"
   ]
  },
  {
   "cell_type": "code",
   "execution_count": 10,
   "metadata": {},
   "outputs": [],
   "source": [
    "# Function to create a list of mini-batches\n",
    "def getBatches(X, y, batch_size):\n",
    "    mini_batches = []\n",
    "    \n",
    "    # Shuffle the data randomly\n",
    "    data = np.concatenate((np.array(X), np.array(y))).T\n",
    "    np.random.shuffle(data)\n",
    "    \n",
    "    n_obs = data.shape[0]\n",
    "    for start in range(0, n_obs, batch_size):\n",
    "        stop = start + batch_size\n",
    "        x_batch, y_batch = data[start:stop, :-1], data[start:stop, -1:]\n",
    "        mini_batches.append((x_batch, y_batch))\n",
    "        \n",
    "    return mini_batches"
   ]
  },
  {
   "cell_type": "code",
   "execution_count": 11,
   "metadata": {},
   "outputs": [],
   "source": [
    "# Define the gradient descent function\n",
    "def MBGD(gradient, X, y, solution, alpha, gamma, n_iter=2000, batch_size=20):\n",
    "    step_size = 0\n",
    "    \n",
    "    for _ in range(n_iter):\n",
    "        mini_batches = getBatches(X, y, batch_size)\n",
    "        \n",
    "        for mini_batch in mini_batches:\n",
    "            X_mini, y_mini = mini_batch\n",
    "            \n",
    "            # Calculate the step using the gradient\n",
    "            step_size = alpha * gradient(X_mini, y_mini, solution) + gamma * step_size\n",
    "\n",
    "            # Update the parameters using the step\n",
    "            solution -= step_size\n",
    "        \n",
    "    return solution"
   ]
  },
  {
   "cell_type": "code",
   "execution_count": 12,
   "metadata": {},
   "outputs": [
    {
     "name": "stdout",
     "output_type": "stream",
     "text": [
      "m = 108.74017345162828\n"
     ]
    }
   ],
   "source": [
    "# Initialise the values for x and y\n",
    "days = data['days'].values\n",
    "policy = data['stay_home'].values\n",
    "rate = data['reproduction_rate'].values\n",
    "\n",
    "# Compute the coefficient m using gradient descent\n",
    "m = MBGD(gradient, X=[policy, rate], y=[days], solution=[1], \n",
    "         alpha=0.1, gamma=0.9)\n",
    "print('m = {}'.format(m[0]))"
   ]
  },
  {
   "cell_type": "code",
   "execution_count": 13,
   "metadata": {},
   "outputs": [
    {
     "data": {
      "image/png": "[encoded data removed]",
      "text/plain": [
       "<Figure size 720x576 with 2 Axes>"
      ]
     },
     "metadata": {
      "needs_background": "light"
     },
     "output_type": "display_data"
    }
   ],
   "source": [
    "# Preview the 3D plot of the objective function with the found coefficient m\n",
    "def f(H, R):\n",
    "    return m / (H * R)\n",
    "\n",
    "fig = plt.figure(figsize=(10, 8))\n",
    "ax = fig.add_subplot(111, projection='3d')\n",
    "\n",
    "X, Y = np.meshgrid(policy[policy != 0], rate[rate != 0])\n",
    "zs = np.array([f(x, y) for x, y in zip(np.ravel(X), np.ravel(Y))])\n",
    "Z = zs.reshape(X.shape)\n",
    "\n",
    "surf = ax.plot_surface(X, Y, Z, cmap='jet')\n",
    "ax.set_title('3D Plot of the Objective Function')\n",
    "ax.set_xlabel('Severity of stay home policy, H')\n",
    "ax.set_ylabel('R-number, R')\n",
    "ax.set_zlabel('Number of lockdown days, D')\n",
    "fig.colorbar(surf, shrink=0.5, pad=0.1)\n",
    "\n",
    "plt.show()"
   ]
  },
  {
   "cell_type": "markdown",
   "metadata": {},
   "source": [
    "### Constrained Optimisation of the Objective Function\n",
    "\n",
    "The objective function can now be optimised using constraints to answer questions regarding the  trajectory of certain lockdown policies. This is done using two alternative methods, namely the quasi-Newton method with scipy or Lagrange multipliers with simpy."
   ]
  },
  {
   "cell_type": "markdown",
   "metadata": {},
   "source": [
    "### Question 1: Are politicians realistic in calling for a light and short lockdown?\n",
    "\n",
    "The equation is satisfied with the constraints of **D ≤ 14**, **H ≤ 2** and **R ≤ 1**. This is to find if it is possible to have a light lockdown in only two weeks to bring the R-number to a value of 1 or less."
   ]
  },
  {
   "cell_type": "markdown",
   "metadata": {},
   "source": [
    "#### Implementation using scipy and the quasi-Newton method"
   ]
  },
  {
   "cell_type": "code",
   "execution_count": 14,
   "metadata": {},
   "outputs": [],
   "source": [
    "# Define the model of the objective function\n",
    "def f(x):\n",
    "    return m / (x[0] * x[1])"
   ]
  },
  {
   "cell_type": "code",
   "execution_count": 15,
   "metadata": {},
   "outputs": [],
   "source": [
    "# Define the list of constraints\n",
    "def constraint_1(x):\n",
    "    return -x[0] + 14 # Number of lockdown days must be less than or equal to 14\n",
    "\n",
    "def constraint_2(x):\n",
    "    return -x[1] + 2 # Severity of stay home policy must be less than or equal to 2\n",
    "\n",
    "cons = ({'type': 'ineq', 'fun': constraint_1}, \n",
    "        {'type': 'ineq', 'fun': constraint_2})"
   ]
  },
  {
   "cell_type": "code",
   "execution_count": 16,
   "metadata": {},
   "outputs": [
    {
     "name": "stdout",
     "output_type": "stream",
     "text": [
      "Optimisation using the quasi-Newton method\n",
      "\n",
      "Value of R = 4\n",
      "Value of D = 14\n",
      "Value of H = 2\n",
      "\n",
      "Inequality constraints not satisfied as R > 1\n"
     ]
    }
   ],
   "source": [
    "# Define the initial point and bounds of the variables\n",
    "x0 = np.array([1, 1])\n",
    "bnds = ((0, None), (0, 3))\n",
    "\n",
    "# Optimise the function and search for a solution\n",
    "res = minimize(f, x0, constraints=cons, bounds=bnds, method='SLSQP')\n",
    "\n",
    "# Print the value of D, H and R\n",
    "print('Optimisation using the quasi-Newton method\\n')\n",
    "print('Value of R = {}'.format(round(res.fun[0])))\n",
    "print('Value of D = {}'.format(round(res.x[0])))\n",
    "print('Value of H = {}'.format(round(res.x[1])))\n",
    "\n",
    "# Print satisfaction if R <= 1\n",
    "if round(res.fun[0]) > 0:\n",
    "    print('\\nInequality constraints not satisfied as R > 1')\n",
    "else:\n",
    "    print('\\nInequality constraints satisfied as R <= 1')"
   ]
  },
  {
   "cell_type": "markdown",
   "metadata": {},
   "source": [
    "We can observe that implementing a stay home policy of 2 or less in severity for a period of 14 days will only lead to a minimum R-number of 2. Such a value remains dangerously high as it means that a person can still infect 2 people at a time."
   ]
  },
  {
   "cell_type": "markdown",
   "metadata": {},
   "source": [
    "#### Implementation using simpy and Lagrange multipliers"
   ]
  },
  {
   "cell_type": "markdown",
   "metadata": {},
   "source": [
    "The full suite of KKT conditions required to be at a local optimum is:\n",
    "\n",
    "1. $$L(x, λ_{1}, λ_{2}) = f(x) + λ_{1}g_{1}(x) + λ_{2}g_{2}(x)$$\n",
    "<br>\n",
    "$$L(x, λ_{1}, λ_{2}) = -mD^{-1}H^{-1} + λ_{1}(D - 14) + λ_{2}(H - 2)$$\n",
    "<br>\n",
    "<font color='red'>$$\\frac{∂L}{∂D} = -mD^{-2} + λ_{1}$$</font>\n",
    "<br>\n",
    "<font color='red'>$$\\frac{∂L}{∂H} = -mH^{-2} + λ_{2}$$</font>\n",
    "<br>\n",
    "\n",
    "2. $$D ≤ 14$$\n",
    "$$H ≤ 2$$\n",
    "<br>\n",
    "\n",
    "3. $$g_{1}(x) = 0 \\text{ and } g_{2}(x) = 0$$\n",
    "<br>\n",
    "<font color='red'>$$D + K_{1} - 14 = 0$$</font>\n",
    "<font color='red'>$$H + K_{2} - 2 = 0$$</font>\n",
    "<br>\n",
    "\n",
    "4. $$λ_{1} ≥ 0 \\text{ and } λ_{2} ≥ 0$$\n",
    "<br>\n",
    "\n",
    "5. $$λ_{1}g_{1}(x) = 0 \\text{ and } λ_{2}g_{2}(x) = 0$$\n",
    "<br>\n",
    "<font color='red'>$$λ_{1}D - 14λ_{1} = 0$$</font>\n",
    "<font color='red'>$$λ_{2}H - 2λ_{2} = 0$$</font>"
   ]
  },
  {
   "cell_type": "code",
   "execution_count": 17,
   "metadata": {},
   "outputs": [],
   "source": [
    "D, H = symbols('D H', nonnegative=True)\n",
    "L1, L2 = symbols('L1 L2', nonnegative=True)\n",
    "K1, K2 = symbols('K1 K2')\n",
    "\n",
    "sol = solve([Eq(-m[0] * (D ** -2) + L1, 0), \n",
    "             Eq(-m[0] * (H ** -2) + L2, 0), \n",
    "             Eq(D + K1 - 14, 0), \n",
    "             Eq(H + K2 - 2, 0), \n",
    "             Eq(D * L1 - 14 * L1, 0), \n",
    "             Eq(H * L2 - 2 * L2, 0)], \n",
    "            [D, H, L1, L2, K1, K2])"
   ]
  },
  {
   "cell_type": "code",
   "execution_count": 18,
   "metadata": {},
   "outputs": [
    {
     "name": "stdout",
     "output_type": "stream",
     "text": [
      "Optimisation using Lagrange multipliers\n",
      "\n",
      "Value of R = 4\n",
      "Value of D = 14\n",
      "Value of H = 2\n",
      "\n",
      "Inequality constraints not satisfied as R > 1\n"
     ]
    }
   ],
   "source": [
    "opt_D = int(sol[0][0])\n",
    "opt_H = int(sol[0][1])\n",
    "min_R = f([opt_D, opt_H])\n",
    "\n",
    "# Print the value of D, H and R\n",
    "print('Optimisation using Lagrange multipliers\\n')\n",
    "print('Value of R = {}'.format(round(min_R[0])))\n",
    "print('Value of D = {}'.format(opt_D))\n",
    "print('Value of H = {}'.format(opt_H))\n",
    "\n",
    "# Print satisfaction if R <= 1\n",
    "if min_R[0] > 0:\n",
    "    print('\\nInequality constraints not satisfied as R > 1')\n",
    "else:\n",
    "    print('\\nInequality constraints satisfied as R <= 1')"
   ]
  },
  {
   "cell_type": "markdown",
   "metadata": {},
   "source": [
    "### Question 2: How many days are required for lifting a strict lockdown?\n",
    "\n",
    "The variable D is minimised with constraints on **H ≥ 2** and **R ≤ 1**. This is to find the minimum number of days that is required before a strict lockdown can be lifted in order to reach a R-number of less than 1."
   ]
  },
  {
   "cell_type": "markdown",
   "metadata": {},
   "source": [
    "#### Implementation using scipy and the quasi-Newton method"
   ]
  },
  {
   "cell_type": "code",
   "execution_count": 19,
   "metadata": {},
   "outputs": [],
   "source": [
    "# Define the model of the objective function\n",
    "def f(x):\n",
    "    return m / (x[0] * x[1])"
   ]
  },
  {
   "cell_type": "code",
   "execution_count": 20,
   "metadata": {},
   "outputs": [],
   "source": [
    "# Define the list of constraints\n",
    "def constraint_1(x):\n",
    "    return x[0] - 2 # Severity of stay home policy must be greater than or equal to 2\n",
    "\n",
    "def constraint_2(x):\n",
    "    return -x[1] + 1 # R-number must be less than or equal to 1\n",
    "\n",
    "cons = ({'type': 'ineq', 'fun': constraint_1}, {'type': 'ineq', 'fun': constraint_2})"
   ]
  },
  {
   "cell_type": "code",
   "execution_count": 21,
   "metadata": {},
   "outputs": [
    {
     "name": "stdout",
     "output_type": "stream",
     "text": [
      "Optimisation using the quasi-Newton method\n",
      "\n",
      "Value of D = 36\n",
      "Value of H = 3\n",
      "Value of R = 1\n"
     ]
    }
   ],
   "source": [
    "# Define the initial point and bounds of the variables\n",
    "x0 = np.array([1, 1])\n",
    "bnds = ((0, 3), (0, None))\n",
    "\n",
    "# Optimise the function and search for a solution\n",
    "res = minimize(f, x0, constraints=cons, bounds=bnds, method='SLSQP')\n",
    "\n",
    "# Print the value of D, H and R\n",
    "print('Optimisation using the quasi-Newton method\\n')\n",
    "print('Value of D = {}'.format(round(res.fun[0])))\n",
    "print('Value of H = {}'.format(round(res.x[0])))\n",
    "print('Value of R = {}'.format(round(res.x[1])))"
   ]
  },
  {
   "cell_type": "markdown",
   "metadata": {},
   "source": [
    "We can observe that if a stricter stay home policy of 2 or greater is implemented, a R number of 1 can theoretically be reached in 22 days at minimum. Hence, for a shorter lockdown period, a stricter stay home policy must be implemented."
   ]
  },
  {
   "cell_type": "markdown",
   "metadata": {},
   "source": [
    "#### Implementation using simpy and Lagrange multipliers"
   ]
  },
  {
   "cell_type": "markdown",
   "metadata": {},
   "source": [
    "The full suite of KKT conditions required to be at a local optimum is:\n",
    "\n",
    "1. $$L(x, λ_{1}, λ_{2}, λ_{3}) = f(x) + λ_{1}g_{1}(x) + λ_{2}g_{2}(x) + λ_{3}g_{3}(x)$$\n",
    "<br>\n",
    "$$L(x, λ_{1}, λ_{2}, λ_{3}) = -mH^{-1}R^{-1} + λ_{1}(-H + 2) + λ_{2}(H - 3)+ λ_{3}(R - 1)$$\n",
    "<br>\n",
    "<font color='red'>$$\\frac{∂L}{∂H} = -mH^{-2} - λ_{1} + λ_{2}$$</font>\n",
    "<br>\n",
    "<font color='red'>$$\\frac{∂L}{∂R} = -mR^{-2} + λ_{3}$$</font>\n",
    "<br>\n",
    "\n",
    "2. $$H ≥ 2$$\n",
    "$$H ≤ 3$$\n",
    "$$R ≤ 1$$\n",
    "<br>\n",
    "\n",
    "3. $$g_{1}(x) = 0 \\text{ and } g_{2}(x) = 0 \\text{ and } g_{3}(x) = 0$$\n",
    "<br>\n",
    "<font color='red'>$$-H + K_{1} + 2 = 0$$</font>\n",
    "<font color='red'>$$H + K_{2} - 3 = 0$$</font>\n",
    "<font color='red'>$$R + K_{3} - 1 = 0$$</font>\n",
    "<br>\n",
    "\n",
    "4. $$λ_{1} ≥ 0 \\text{ and } λ_{2} ≥ 0 \\text{ and } λ_{3} ≥ 0$$\n",
    "<br>\n",
    "\n",
    "5. $$λ_{1}g_{1}(x) = 0 \\text{ and } λ_{2}g_{2}(x) = 0 \\text{ and } λ_{3}g_{3}(x) = 0$$\n",
    "<br>\n",
    "<font color='red'>$$-λ_{1}H + 2λ_{1} = 0$$</font>\n",
    "<font color='red'>$$λ_{2}H - 3λ_{2} = 0$$</font>\n",
    "<font color='red'>$$λ_{3}R - λ_{3} = 0$$</font>"
   ]
  },
  {
   "cell_type": "code",
   "execution_count": 22,
   "metadata": {},
   "outputs": [],
   "source": [
    "H, R = symbols('H R', nonnegative=True)\n",
    "L1, L2, L3 = symbols('L1 L2 L3', nonnegative=True)\n",
    "K1, K2, K3 = symbols('K1 K2 K3')\n",
    "\n",
    "sol = solve([Eq(-m[0] * (H ** -2) - L1 + L2, 0), \n",
    "             Eq(-m[0] * (R ** -2) + L3, 0), \n",
    "             Eq(-H + K1 + 2, 0), \n",
    "             Eq(H + K2 - 3, 0), \n",
    "             Eq(R + K3 - 1, 0), \n",
    "             Eq(-H * L1 + 2 * L1, 0), \n",
    "             Eq(H * L2 - 3 * L2, 0), \n",
    "             Eq(R * L3 - L3, 0)], \n",
    "            [H, R, L1, L2, L3, K1, K2, K3])"
   ]
  },
  {
   "cell_type": "code",
   "execution_count": 23,
   "metadata": {},
   "outputs": [
    {
     "name": "stdout",
     "output_type": "stream",
     "text": [
      "Optimisation using Lagrange multipliers\n",
      "\n",
      "Value of D = 36\n",
      "Value of H = 3\n",
      "Value of R = 1\n"
     ]
    }
   ],
   "source": [
    "opt_H = int(sol[0][0])\n",
    "opt_R = int(sol[0][1])\n",
    "min_D = f([opt_H, opt_R])\n",
    "\n",
    "# Print the value of D, H and R\n",
    "print('Optimisation using Lagrange multipliers\\n')\n",
    "print('Value of D = {}'.format(round(min_D[0])))\n",
    "print('Value of H = {}'.format(opt_H))\n",
    "print('Value of R = {}'.format(opt_R))"
   ]
  },
  {
   "cell_type": "markdown",
   "metadata": {},
   "source": [
    "## Conclusion\n",
    "\n",
    "By utilising gradient descent and optimisation, it is shown that theoretically a light and short lockdown as advocated by politicians will not succeed in bringing down the R-number. Instead, a strict lockdown as advocated by scientist is required to achieve such goals.\n",
    "\n",
    "It must also be acknowledged that the objective function is a simplified model of the COVID pandemic. A more complex function would provide for a better model in determining the feasibility and optimisation of lockdown policies."
   ]
  }
 ],
 "metadata": {
  "kernelspec": {
   "display_name": "Python 3",
   "language": "python",
   "name": "python3"
  },
  "language_info": {
   "codemirror_mode": {
    "name": "ipython",
    "version": 3
   },
   "file_extension": ".py",
   "mimetype": "text/x-python",
   "name": "python",
   "nbconvert_exporter": "python",
   "pygments_lexer": "ipython3",
   "version": "3.8.5"
  }
 },
 "nbformat": 4,
 "nbformat_minor": 4
}
